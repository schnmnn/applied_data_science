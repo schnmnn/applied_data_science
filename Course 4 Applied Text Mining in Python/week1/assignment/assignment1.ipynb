{
 "cells": [
  {
   "cell_type": "markdown",
   "metadata": {
    "deletable": false,
    "editable": false,
    "nbgrader": {
     "cell_type": "markdown",
     "checksum": "cacf7f4360d6d53c622742f64048f72c",
     "grade": false,
     "grade_id": "cell-8a754c8ce8a16eeb",
     "locked": true,
     "schema_version": 3,
     "solution": false,
     "task": false
    }
   },
   "source": [
    "# Assignment 1\n",
    "\n",
    "In this assignment, you'll be working with messy medical data and using regex to extract relevant infromation from the data. \n",
    "\n",
    "Each line of the `dates.txt` file corresponds to a medical note. Each note has a date that needs to be extracted, but each date is encoded in one of many formats.\n",
    "\n",
    "The goal of this assignment is to correctly identify all of the different date variants encoded in this dataset and to properly normalize and sort the dates. \n",
    "\n",
    "Here is a list of some of the variants you might encounter in this dataset:\n",
    "* 04/20/2009; 04/20/09; 4/20/09; 4/3/09\n",
    "* Mar-20-2009; Mar 20, 2009; March 20, 2009;  Mar. 20, 2009; Mar 20 2009;\n",
    "* 20 Mar 2009; 20 March 2009; 20 Mar. 2009; 20 March, 2009\n",
    "* Mar 20th, 2009; Mar 21st, 2009; Mar 22nd, 2009\n",
    "* Feb 2009; Sep 2009; Oct 2010\n",
    "* 6/2008; 12/2009\n",
    "* 2009; 2010\n",
    "\n",
    "Once you have extracted these date patterns from the text, the next step is to sort them in ascending chronological order accoring to the following rules:\n",
    "* Assume all dates in xx/xx/xx format are mm/dd/yy\n",
    "* Assume all dates where year is encoded in only two digits are years from the 1900's (e.g. 1/5/89 is January 5th, 1989)\n",
    "* If the day is missing (e.g. 9/2009), assume it is the first day of the month (e.g. September 1, 2009).\n",
    "* If the month is missing (e.g. 2010), assume it is the first of January of that year (e.g. January 1, 2010).\n",
    "* Watch out for potential typos as this is a raw, real-life derived dataset.\n",
    "\n",
    "With these rules in mind, find the correct date in each note and return a pandas Series in chronological order of the original Series' indices. **This Series should be sorted by a tie-break sort in the format of (\"extracted date\", \"original row number\").**\n",
    "\n",
    "For example if the original series was this:\n",
    "\n",
    "    0    1999\n",
    "    1    2010\n",
    "    2    1978\n",
    "    3    2015\n",
    "    4    1985\n",
    "\n",
    "Your function should return this:\n",
    "\n",
    "    0    2\n",
    "    1    4\n",
    "    2    0\n",
    "    3    1\n",
    "    4    3\n",
    "\n",
    "Your score will be calculated using [Kendall's tau](https://en.wikipedia.org/wiki/Kendall_rank_correlation_coefficient), a correlation measure for ordinal data.\n",
    "\n",
    "*This function should return a Series of length 500 and dtype int.*"
   ]
  },
  {
   "cell_type": "code",
   "execution_count": 500,
   "metadata": {
    "deletable": false,
    "editable": false,
    "nbgrader": {
     "cell_type": "code",
     "checksum": "4b47ce38a503bfb1f113580f394d8667",
     "grade": false,
     "grade_id": "cell-28048f36edc32946",
     "locked": true,
     "schema_version": 3,
     "solution": false,
     "task": false
    }
   },
   "outputs": [
    {
     "data": {
      "text/plain": [
       "0         03/25/93 Total time of visit (in minutes):\\n\n",
       "1                       6/18/85 Primary Care Doctor:\\n\n",
       "2    sshe plans to move as of 7/8/71 In-Home Servic...\n",
       "3                7 on 9/27/75 Audit C Score Current:\\n\n",
       "4    2/6/96 sleep studyPain Treatment Pain Level (N...\n",
       "5                    .Per 7/06/79 Movement D/O note:\\n\n",
       "6    4, 5/18/78 Patient's thoughts about current su...\n",
       "7    10/24/89 CPT Code: 90801 - Psychiatric Diagnos...\n",
       "8                         3/7/86 SOS-10 Total Score:\\n\n",
       "9             (4/10/71)Score-1Audit C Score Current:\\n\n",
       "dtype: object"
      ]
     },
     "execution_count": 500,
     "metadata": {},
     "output_type": "execute_result"
    }
   ],
   "source": [
    "import pandas as pd\n",
    "\n",
    "doc = []\n",
    "with open('assets/dates.txt') as file:\n",
    "    for line in file:\n",
    "        doc.append(line)\n",
    "\n",
    "df = pd.Series(doc)\n",
    "df.head(10)"
   ]
  },
  {
   "cell_type": "code",
   "execution_count": 629,
   "metadata": {
    "deletable": false,
    "nbgrader": {
     "cell_type": "code",
     "checksum": "3e58e227860ae4b02d6bdddd81506787",
     "grade": false,
     "grade_id": "cell-d6f35a51303ed6ff",
     "locked": false,
     "schema_version": 3,
     "solution": true,
     "task": false
    }
   },
   "outputs": [],
   "source": [
    "def date_sorter():\n",
    "    # doc = []\n",
    "    # with open('assets/dates.txt') as file:\n",
    "    #     for line in file:\n",
    "    #         doc.append(line)\n",
    "\n",
    "    df = pd.Series(doc)\n",
    "    df = df.to_frame('Text')\n",
    "    df['Text'] = df['Text'].str.replace('Janaury', 'January')\n",
    "    df['Text'] = df['Text'].str.replace('Decemeber', 'December')\n",
    "    df['extracted_date'] = pd.NA\n",
    "    #  date pattern 04/20/2009; 04/20/09; 4/20/09; 4/3/09\n",
    "    # Regular expression pattern\n",
    "    date_patterns = [   # Standard Dates (mm/dd/yyyy and variations)\n",
    "                                    r'((?:0?[1-9]|1[0-2])\\/(?:0?[1-9]|[12]\\d|3[01])\\/(?:\\d{2}|\\d{4}))\\b',\n",
    "                                    r'\\b(\\d{1,2}-\\d{1,2}-\\d{2})\\b',\n",
    "                                    # Month Name, Day, Year (with variations in month name length and separators)\n",
    "                                    r'\\b((?:Jan|Feb|Mar|Apr|May|Jun|Jul|Aug|Sep|Oct|Nov|Dec)[a-z]*\\.?\\s\\d{1,2}[,\\s-]?\\s\\d{4})\\b',\n",
    "                                    r'\\b(\\d{1,2}\\s(?:Jan|Feb|Mar|Apr|May|Jun|Jul|Aug|Sep|Oct|Nov|Dec)[a-z]*\\.?,?\\s\\d{4})\\b',\n",
    "                                    r'\\b((?:Jan|Feb|Mar|Apr|May|Jun|Jul|Aug|Sep|Oct|Nov|Dec)\\s\\d{1,2}(?:th|st|nd|rd),\\s\\d{4})\\b',\n",
    "                                    r'(\\d{1,2}/\\d{4})',\n",
    "\n",
    "                                    # Month Name and Year (with variations in month name length)\n",
    "                                    r'\\b((?:Jan|Feb|Mar|Apr|May|Jun|Jul|Aug|Sep|Oct|Nov|Dec)[a-z]*\\.?\\s\\d{4})\\b',\n",
    "                                    r'\\b((?:January|February|March|April|May|June|July|August|September|October|November|December)\\s\\d{4})\\b',\n",
    "                                    r'\\b.((?:Jan|Feb|Mar|Apr|May|Jun|Jul|Aug|Sep|Oct|Nov|Dec)[a-z]*\\s?\\d{4})\\b',\n",
    "                                    r'\\b((?:Jan|Feb|Mar|Apr|May|Jun|Jul|Aug|Sep|Oct|Nov|Dec)[a-z]*,\\s\\d{4})\\b',\n",
    "                                    # Month/Year\n",
    "                                    r'\\b(\\d{1,2}/\\d{4})\\b',\n",
    "                                    # Year Only\n",
    "                                    r'\\b(?:[^\\d]*)(\\d{4})\\b'\n",
    "] \n",
    "\n",
    "    # Extract dates if column exctraced text is Nan\n",
    "    # Apply str.extract only where 'extracted_date' is NaN\n",
    "    for i in date_patterns:\n",
    "        mask = df['extracted_date'].isna()\n",
    "        extracted_data = df.loc[mask, 'Text'].str.extract(i)[0]\n",
    "        df.loc[mask, 'extracted_date'] = extracted_data.where(~extracted_data.isna(), df.loc[mask, 'extracted_date'])\n",
    "\n",
    "    #manual handling\n",
    "    df.at[271,'extracted_date'] = 'August 2008'\n",
    "    df.at[321,'extracted_date'] = '2 June 1999'\n",
    "    df.at[274,'extracted_date'] = '7 April 1985'\n",
    "    df['transformed_date'] = pd.to_datetime(df['extracted_date'])\n",
    "\n",
    "    # handling of transforming to datetype with two digit years\n",
    "    pattern = r'\\b(?:1[0-2]|0?[1-9])\\/(?:3[01]|[12][0-9]|0?[1-9])\\/\\d{2}\\b'\n",
    "    df['is_valid_date'] = df['extracted_date'].str.match(pattern)\n",
    "    df['correct_year'] = df[(df['is_valid_date']) & (df['transformed_date'].dt.year > 2000)]['transformed_date'].apply(lambda x: x - pd.DateOffset(years=100))\n",
    "\n",
    "    # Update 'transformed_date' where 'correct_year' is not NaT\n",
    "    mask = pd.notna(df['correct_year'])\n",
    "    df.loc[mask, 'transformed_date'] = df.loc[mask, 'correct_year']\n",
    "    df.reset_index(inplace=True)    \n",
    "\n",
    "    df.sort_values(by=['transformed_date','index'],inplace=True)\n",
    "    df['Count'] = range(len(df))\n",
    "    df.set_index('Count',inplace=True)\n",
    "    series = df['index']\n",
    "    return series\n",
    "\n"
   ]
  },
  {
   "cell_type": "code",
   "execution_count": 638,
   "metadata": {},
   "outputs": [
    {
     "name": "stderr",
     "output_type": "stream",
     "text": [
      "/tmp/ipykernel_18533/205870813.py:42: UserWarning: Could not infer format, so each element will be parsed individually, falling back to `dateutil`. To ensure parsing is consistent and as-expected, please specify a format.\n",
      "  df['transformed_date'] = pd.to_datetime(df['extracted_date'])\n"
     ]
    },
    {
     "data": {
      "text/plain": [
       "Count\n",
       "0        9\n",
       "1       84\n",
       "2        2\n",
       "3       53\n",
       "4       28\n",
       "      ... \n",
       "495    427\n",
       "496    141\n",
       "497    186\n",
       "498    161\n",
       "499    413\n",
       "Name: index, Length: 500, dtype: int64"
      ]
     },
     "execution_count": 638,
     "metadata": {},
     "output_type": "execute_result"
    }
   ],
   "source": [
    "date_sorter()"
   ]
  }
 ],
 "metadata": {
  "coursera": {
   "course_slug": "python-text-mining",
   "graded_item_id": "LvcWI",
   "launcher_item_id": "krne9",
   "part_id": "Mkp1I"
  },
  "kernelspec": {
   "display_name": "Python 3 (ipykernel)",
   "language": "python",
   "name": "python3"
  },
  "language_info": {
   "codemirror_mode": {
    "name": "ipython",
    "version": 3
   },
   "file_extension": ".py",
   "mimetype": "text/x-python",
   "name": "python",
   "nbconvert_exporter": "python",
   "pygments_lexer": "ipython3",
   "version": "3.10.6"
  },
  "vscode": {
   "interpreter": {
    "hash": "aee8b7b246df8f9039afb4144a1f6fd8d2ca17a180786b69acc140d282b71a49"
   }
  }
 },
 "nbformat": 4,
 "nbformat_minor": 4
}
